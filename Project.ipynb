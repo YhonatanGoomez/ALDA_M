{
 "cells": [
  {
   "cell_type": "code",
   "execution_count": 4,
   "metadata": {},
   "outputs": [
    {
     "name": "stderr",
     "output_type": "stream",
     "text": [
      "...\n",
      "----------------------------------------------------------------------\n",
      "Ran 3 tests in 0.001s\n",
      "\n",
      "OK\n"
     ]
    },
    {
     "name": "stdout",
     "output_type": "stream",
     "text": [
      "Time of execution: 0.0020000006770715117 seconds\n",
      "Time of execution2: 0.0036999990697950125 seconds\n"
     ]
    }
   ],
   "source": [
    "import timeit\n",
    "import unittest\n",
    "#ALGORITHMS DECISION PALINDROME\n",
    "def is_palindrome_basic(s):\n",
    "    s = s.lower()   #O(n)\n",
    "    return s == s[::-1] #O(n)\n",
    "\n",
    "\n",
    "class TestIsPalindromeBasic(unittest.TestCase):\n",
    "    def test_palindrome(self):\n",
    "        self.assertTrue(is_palindrome_basic(\"radar\"))\n",
    "    def test_non_palindrome(self):\n",
    "        self.assertFalse(is_palindrome_basic(\"hello\"))\n",
    "    def test_long_palindrome(self):\n",
    "        self.assertTrue(is_palindrome_basic(\"aaaaaaaaaaaaaaaaaaaaaaaaaaaaaaaaaaaaaaaaaaaaaaaaaaaaaaaaaaaaaaaaaaaaaaaaaaaaaaaaaaaaaaaaaaaaaaaaa\"))\n",
    "\n",
    "def run_test():\n",
    "    suite = unittest.TestLoader().loadTestsFromTestCase(TestIsPalindromeBasic)\n",
    "    \n",
    "    # Run the test suite\n",
    "    runner = unittest.TextTestRunner()\n",
    "    runner.run(suite)\n",
    "    \n",
    "run_test()\n",
    "\n",
    "Time_execution = timeit.timeit(lambda: is_palindrome_basic(\"aaaaaaaaaaaaaaaaaaaaaaaaaaaaaaaaaaaaaaaaaaaaaaaaaaaaaaaaaaaaaaaaaaaaaaaaaaaaaaaaaaaaaaaaaaaaaaaaa\"), number=1)\n",
    "Time_execution2 = timeit.timeit(lambda: is_palindrome_basic(\"radar\"), number=11)\n",
    "print(\"Time of execution:\", Time_execution*1000, \"seconds\")\n",
    "print(\"Time of execution2:\", Time_execution2*1000, \"seconds\")\n"
   ]
  },
  {
   "cell_type": "code",
   "execution_count": 5,
   "metadata": {},
   "outputs": [
    {
     "name": "stderr",
     "output_type": "stream",
     "text": [
      "...\n",
      "----------------------------------------------------------------------\n",
      "Ran 3 tests in 0.001s\n",
      "\n",
      "OK\n"
     ]
    },
    {
     "name": "stdout",
     "output_type": "stream",
     "text": [
      "Time of execution: 0.0024000000848900527 seconds\n",
      "Time of execution2: 0.005100000635138713 seconds\n"
     ]
    }
   ],
   "source": [
    "import unittest\n",
    "import timeit\n",
    "\n",
    "# Define the function to test\n",
    "def is_palindrome_iterative(s):\n",
    "    s = s.lower()       #O(n)\n",
    "    i, j = 0, len(s) - 1    #O(4) = O(1)\n",
    "    while i < j:            #O(n)\n",
    "        if s[i] != s[j]:    #O(1)\n",
    "            return False\n",
    "        i += 1              #O(1)\n",
    "        j -= 1              #O(1)\n",
    "    return True\n",
    "\n",
    "# Define a test case class\n",
    "class TestIsPalindromeIterative(unittest.TestCase):\n",
    "\n",
    "    # Test case for palindrome string\n",
    "    def test_palindrome(self):\n",
    "        self.assertTrue(is_palindrome_iterative(\"radar\"))\n",
    "\n",
    "    # Test case for non-palindrome string\n",
    "    def test_non_palindrome(self):\n",
    "        self.assertFalse(is_palindrome_iterative(\"hello\"))\n",
    "\n",
    "    # Test case for long palindrome string\n",
    "    def test_long_palindrome(self):\n",
    "        self.assertTrue(is_palindrome_iterative(\"aaaaaaaaaaaaaaaaaaaaaaaaaaaaaaaaaaaaaaaaaaaaaaaaaaaaaaaaaaaaaaaaaaaaaaaaaaaaaaaaaaaaaaaaaaaaaaaaa\"))\n",
    "\n",
    "# Run the tests\n",
    "def run_tests():\n",
    "    # Create a test suite\n",
    "    suite = unittest.TestLoader().loadTestsFromTestCase(TestIsPalindromeIterative)\n",
    "    \n",
    "    # Run the test suite\n",
    "    runner = unittest.TextTestRunner()\n",
    "    runner.run(suite)\n",
    "\n",
    "# Call the function to run the tests\n",
    "run_tests()\n",
    "\n",
    "# Perform timing for demonstration purposes\n",
    "time_execution = timeit.timeit(lambda: is_palindrome_iterative(\"radar\"), number=1)\n",
    "Time_execution2 = timeit.timeit(lambda: is_palindrome_iterative(\"aaaaaaaaaaaaaaaaaaaaaaaaaaaaaaaaaaaaaaaaaaaaaaaaaaaaaaaaaaaaaaaaaaaaaaaaaaaaaaaaaaaaaaaaaaaaaaaaa\"), number=1)\n",
    "print(\"Time of execution:\", time_execution*1000, \"seconds\")\n",
    "print(\"Time of execution2:\", Time_execution2*1000, \"seconds\")"
   ]
  },
  {
   "cell_type": "code",
   "execution_count": 9,
   "metadata": {},
   "outputs": [
    {
     "name": "stderr",
     "output_type": "stream",
     "text": [
      "F..\n",
      "======================================================================\n",
      "FAIL: test_long_palindrome (__main__.TestIsPalindromeRecursive.test_long_palindrome)\n",
      "----------------------------------------------------------------------\n",
      "Traceback (most recent call last):\n",
      "  File \"C:\\Users\\Yhonatan\\AppData\\Local\\Temp\\ipykernel_24368\\4087295164.py\", line 26, in test_long_palindrome\n",
      "    self.assertTrue(is_palindrome_recursive(\"qqqqqqqqqqqqqwwwwwwwwwwwwwwwwwwwwwwwwwwwwwwwwwwwwwwwwwwwwwwwwwwwwwwwwwwwwwwwwwwwwwwwrrrrrrrrrrrrrrrrrdddd\"))\n",
      "AssertionError: False is not true\n",
      "\n",
      "----------------------------------------------------------------------\n",
      "Ran 3 tests in 0.002s\n",
      "\n",
      "FAILED (failures=1)\n"
     ]
    },
    {
     "name": "stdout",
     "output_type": "stream",
     "text": [
      "Time of execution: 0.003300001480965875 seconds\n",
      "Time of execution2: 0.0012999989849049598 seconds\n"
     ]
    }
   ],
   "source": [
    "import unittest\n",
    "import timeit\n",
    "\n",
    "# Define the function to test\n",
    "def is_palindrome_recursive(s):\n",
    "    s = s.lower()          #O(n)\n",
    "    if len(s) <= 1:        #O(1)\n",
    "        return True\n",
    "    if s[0] != s[-1]:      #O(1)\n",
    "        return False\n",
    "    return is_palindrome_recursive(s[1:-1])   #O(n)\n",
    "\n",
    "# Define a test case class\n",
    "class TestIsPalindromeRecursive(unittest.TestCase):\n",
    "\n",
    "    # Test case for palindrome string\n",
    "    def test_palindrome(self):\n",
    "        self.assertTrue(is_palindrome_recursive(\"radar\"))\n",
    "\n",
    "    # Test case for non-palindrome string\n",
    "    def test_non_palindrome(self):\n",
    "        self.assertFalse(is_palindrome_recursive(\"hello\"))\n",
    "\n",
    "    # Test case for long palindrome string\n",
    "    def test_long_palindrome(self):\n",
    "        self.assertTrue(is_palindrome_recursive(\"qqqqqqqqqqqqqwwwwwwwwwwwwwwwwwwwwwwwwwwwwwwwwwwwwwwwwwwwwwwwwwwwwwwwwwwwwwwwwwwwwwwwrrrrrrrrrrrrrrrrrdddd\"))\n",
    "\n",
    "# Run the tests\n",
    "def run_tests():\n",
    "    # Create a test suite\n",
    "    suite = unittest.TestLoader().loadTestsFromTestCase(TestIsPalindromeRecursive)\n",
    "    \n",
    "    # Run the test suite\n",
    "    runner = unittest.TextTestRunner()\n",
    "    runner.run(suite)\n",
    "\n",
    "# Call the function to run the tests\n",
    "run_tests()\n",
    "\n",
    "# Perform timing for demonstration purposes\n",
    "Time_execution = timeit.timeit(lambda: is_palindrome_recursive(\"radar\"), number=1)\n",
    "Time_execution2 = timeit.timeit(lambda: is_palindrome_recursive(\"qqqqqqqqqqqqqwwwwwwwwwwwwwwwwwwwwwwwwwwwwwwwwwwwwwwwwwwwwwwwwwwwwwwwwwwwwwwwwwwwwwwwrrrrrrrrrrrrrrrrrdddd\"), number=1)\n",
    "print(\"Time of execution:\", Time_execution*1000, \"seconds\")\n",
    "print(\"Time of execution2:\", Time_execution2*1000, \"seconds\")"
   ]
  },
  {
   "cell_type": "code",
   "execution_count": 8,
   "metadata": {},
   "outputs": [
    {
     "name": "stderr",
     "output_type": "stream",
     "text": [
      "..\n",
      "----------------------------------------------------------------------\n",
      "Ran 2 tests in 0.001s\n",
      "\n",
      "OK\n"
     ]
    },
    {
     "name": "stdout",
     "output_type": "stream",
     "text": [
      "Time of execution 0.0018999999156221747 seconds\n"
     ]
    }
   ],
   "source": [
    "import unittest\n",
    "import timeit\n",
    "\n",
    "# Define the function to test\n",
    "def linear_search(arr, target):\n",
    "    for i in range(len(arr)):           #O(n)\n",
    "        if arr[i] == target:            #O(1)\n",
    "            return i                    #O(1)\n",
    "    return -1                           #O(1)\n",
    "\n",
    "# Define a test case class\n",
    "class TestLinearSearch(unittest.TestCase):\n",
    "\n",
    "    # Test case for target found in the array\n",
    "    def test_target_found(self):\n",
    "        arr = [4, 2, 7, 1, 9, 3]\n",
    "        target = 7\n",
    "        self.assertEqual(linear_search(arr, target), 2)\n",
    "\n",
    "    # Test case for target not found in the array\n",
    "    def test_target_not_found(self):\n",
    "        arr = [4, 2, 7, 1, 9, 3]\n",
    "        target = 8\n",
    "        self.assertEqual(linear_search(arr, target), -1)\n",
    "\n",
    "# Run the tests\n",
    "def run_tests():\n",
    "    # Create a test suite\n",
    "    suite = unittest.TestLoader().loadTestsFromTestCase(TestLinearSearch)\n",
    "    \n",
    "    # Run the test suite\n",
    "    runner = unittest.TextTestRunner()\n",
    "    runner.run(suite)\n",
    "\n",
    "# Call the function to run the tests\n",
    "run_tests()\n",
    "\n",
    "# Perform timing for demonstration purposes\n",
    "arr = [4, 2, 7, 1, 9, 3]\n",
    "target = 7\n",
    "Time_execution = timeit.timeit(lambda: linear_search(arr, target), number=1)\n",
    "print(\"Time of execution\", Time_execution*1000, \"seconds\")"
   ]
  },
  {
   "cell_type": "code",
   "execution_count": 7,
   "metadata": {},
   "outputs": [
    {
     "name": "stderr",
     "output_type": "stream",
     "text": [
      "..\n",
      "----------------------------------------------------------------------\n",
      "Ran 2 tests in 0.001s\n",
      "\n",
      "OK\n"
     ]
    },
    {
     "name": "stdout",
     "output_type": "stream",
     "text": [
      "Time of execution 0.0016999983927235007 seconds\n"
     ]
    }
   ],
   "source": [
    "import unittest\n",
    "import timeit\n",
    "\n",
    "# Define the function to test\n",
    "def binary_search(arr, target):\n",
    "    low = 0                                 #O(1)\n",
    "    high = len(arr) - 1                     #O(1)\n",
    "\n",
    "    while low <= high:                      #O(log n)\n",
    "        mid = (low + high) // 2             #O(1)\n",
    "        if arr[mid] == target:              #O(1)\n",
    "            return mid\n",
    "        elif arr[mid] < target:             #O(1)\n",
    "            low = mid + 1                   #O(1)\n",
    "        else:\n",
    "            high = mid - 1                  #O(1)\n",
    "\n",
    "    return -1                               #O(1)\n",
    "\n",
    "# Define a test case class\n",
    "class TestBinarySearch(unittest.TestCase):\n",
    "\n",
    "    # Test case for target found in the array\n",
    "    def test_target_found(self):\n",
    "        arr = [1, 2, 4, 5, 7, 9]\n",
    "        target = 7\n",
    "        self.assertEqual(binary_search(arr, target), 4)\n",
    "\n",
    "    # Test case for target not found in the array\n",
    "    def test_target_not_found(self):\n",
    "        arr = [1, 2, 4, 5, 7, 9]\n",
    "        target = 8\n",
    "        self.assertEqual(binary_search(arr, target), -1)\n",
    "\n",
    "# Run the tests\n",
    "def run_tests():\n",
    "    # Create a test suite\n",
    "    suite = unittest.TestLoader().loadTestsFromTestCase(TestBinarySearch)\n",
    "    \n",
    "    # Run the test suite\n",
    "    runner = unittest.TextTestRunner()\n",
    "    runner.run(suite)\n",
    "\n",
    "# Call the function to run the tests\n",
    "run_tests()\n",
    "\n",
    "# Perform timing for demonstration purposes\n",
    "arr = [1, 2, 4, 5, 7, 9]\n",
    "target = 7\n",
    "Time_execution = timeit.timeit(lambda: binary_search(arr, target), number=1)\n",
    "print(\"Time of execution\", Time_execution*1000, \"seconds\")"
   ]
  },
  {
   "cell_type": "code",
   "execution_count": 6,
   "metadata": {},
   "outputs": [
    {
     "name": "stderr",
     "output_type": "stream",
     "text": [
      "..\n",
      "----------------------------------------------------------------------\n",
      "Ran 2 tests in 0.001s\n",
      "\n",
      "OK\n"
     ]
    },
    {
     "name": "stdout",
     "output_type": "stream",
     "text": [
      "Time of execution 0.0029000002541579306 seconds\n"
     ]
    }
   ],
   "source": [
    "import unittest\n",
    "import timeit\n",
    "\n",
    "# Define the function to test\n",
    "def interpolation_search(arr, target):\n",
    "    low = 0             #O(1)\n",
    "    high = len(arr) - 1         #O(1)\n",
    "\n",
    "    while low <= high and target >= arr[low] and target <= arr[high]:     #O(1)\n",
    "        position = low + ((high - low) // (arr[high] - arr[low])) * (target - arr[low])     #O(1)\n",
    "\n",
    "        if arr[position] == target:                 #O(1)\n",
    "            return position\n",
    "        elif arr[position] < target:                #O(1)\n",
    "            low = position + 1                      #O(1)\n",
    "        else:\n",
    "            high = position - 1                     #O(1)\n",
    "\n",
    "    return -1                                       #O(1)\n",
    "\n",
    "# Define a test case class\n",
    "class TestInterpolationSearch(unittest.TestCase):\n",
    "\n",
    "    # Test case for target found in the array\n",
    "    def test_target_found(self):\n",
    "        arr = [1, 2, 4, 5, 7, 9]\n",
    "        target = 7\n",
    "        self.assertEqual(interpolation_search(arr, target), 4)\n",
    "\n",
    "    # Test case for target not found in the array\n",
    "    def test_target_not_found(self):\n",
    "        arr = [1, 2, 4, 5, 7, 9]\n",
    "        target = 8\n",
    "        self.assertEqual(interpolation_search(arr, target), -1)\n",
    "\n",
    "# Run the tests\n",
    "def run_tests():\n",
    "    # Create a test suite\n",
    "    suite = unittest.TestLoader().loadTestsFromTestCase(TestInterpolationSearch)\n",
    "    \n",
    "    # Run the test suite\n",
    "    runner = unittest.TextTestRunner()\n",
    "    runner.run(suite)\n",
    "\n",
    "# Call the function to run the tests\n",
    "run_tests()\n",
    "\n",
    "# Perform timing for demonstration purposes\n",
    "arr = [1, 2, 4, 5, 7, 9]\n",
    "target = 7\n",
    "Time_execution = timeit.timeit(lambda: interpolation_search(arr, target), number=1)\n",
    "print(\"Time of execution\", Time_execution*1000, \"seconds\")\n"
   ]
  },
  {
   "cell_type": "code",
   "execution_count": null,
   "metadata": {},
   "outputs": [],
   "source": []
  }
 ],
 "metadata": {
  "kernelspec": {
   "display_name": "Python 3",
   "language": "python",
   "name": "python3"
  },
  "language_info": {
   "codemirror_mode": {
    "name": "ipython",
    "version": 3
   },
   "file_extension": ".py",
   "mimetype": "text/x-python",
   "name": "python",
   "nbconvert_exporter": "python",
   "pygments_lexer": "ipython3",
   "version": "3.12.1"
  }
 },
 "nbformat": 4,
 "nbformat_minor": 2
}
